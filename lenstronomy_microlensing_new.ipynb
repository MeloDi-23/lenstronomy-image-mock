{
 "cells": [
  {
   "cell_type": "markdown",
   "metadata": {},
   "source": [
    "## Use adaptive boundary mesh to estimate the result"
   ]
  },
  {
   "cell_type": "code",
   "execution_count": 2,
   "metadata": {},
   "outputs": [],
   "source": [
    "import matplotlib.pyplot as plt\n",
    "import numpy as np\n",
    "from lenstronomy.LensModel.lens_model import LensModel\n",
    "from lenstronomy.LightModel.light_model import LightModel\n",
    "from lenstronomy.ImSim.image_model import ImageModel\n",
    "from lenstronomy.Data.psf import PSF\n",
    "from lenstronomy.Util.util import make_grid\n",
    "from lenstronomy.Data.pixel_grid import PixelGrid\n",
    "import importlib"
   ]
  },
  {
   "cell_type": "code",
   "execution_count": 3,
   "metadata": {},
   "outputs": [],
   "source": [
    "import abm          # adaptive boundary mesh"
   ]
  },
  {
   "cell_type": "code",
   "execution_count": 4,
   "metadata": {},
   "outputs": [],
   "source": [
    "d_l = 4000  # distance of the lens in pc\n",
    "d_s = 8000  # distance of the source in pc\n",
    "# diameter of milky way 50kpc\n",
    "# distance from solar to milky way centre 8kpc\n",
    "\n",
    "# ===========\n",
    "# lens system\n",
    "# ===========\n",
    "\n",
    "M0 = 1e3  # typical mass of IMBH in units of M_sol\n",
    "\n",
    "# ===========\n",
    "# source size\n",
    "# ===========\n",
    "\n",
    "diameter_s = 1  # size of the radius of the source star in units of the solar radius"
   ]
  },
  {
   "cell_type": "code",
   "execution_count": 5,
   "metadata": {},
   "outputs": [
    {
     "name": "stdout",
     "output_type": "stream",
     "text": [
      "0.03191026155192734 Einstein radius [arc seconds]\n",
      "1.163118159836867e-06 source size [arc seconds]\n"
     ]
    }
   ],
   "source": [
    "# compute lensing properties\n",
    "from lenstronomy.Cosmo.micro_lensing import einstein_radius, source_size\n",
    "\n",
    "theta_E = einstein_radius(M0, d_l, d_s)\n",
    "print(theta_E, 'Einstein radius [arc seconds]')\n",
    "\n",
    "size_s = source_size(diameter_s, d_s)\n",
    "print(size_s, 'source size [arc seconds]')"
   ]
  },
  {
   "cell_type": "code",
   "execution_count": 6,
   "metadata": {},
   "outputs": [],
   "source": [
    "# map image to source plane\n",
    "lens = LensModel(lens_model_list=['POINT_MASS'])\n",
    "kwargs_lens = [{'theta_E': theta_E, 'center_x': theta_E/2, 'center_y': 0}]"
   ]
  },
  {
   "cell_type": "markdown",
   "metadata": {},
   "source": [
    "result from lens equ solver"
   ]
  },
  {
   "cell_type": "code",
   "execution_count": 26,
   "metadata": {},
   "outputs": [
    {
     "data": {
      "text/plain": [
       "array([[[-7.80776406e-01,  1.28077641e+00]],\n",
       "\n",
       "       [[-7.72259587e-15,  3.63343333e-12]]])"
      ]
     },
     "execution_count": 26,
     "metadata": {},
     "output_type": "execute_result"
    }
   ],
   "source": [
    "from lenstronomy.PointSource.point_source import PointSource\n",
    "# unlensed source positon #\n",
    "point_source_model_list = ['SOURCE_POSITION']\n",
    "pointSource = PointSource(point_source_type_list=point_source_model_list,\n",
    "                           lens_model=lens, fixed_magnification_list=[True], kwargs_lens_eqn_solver={\n",
    "                               'min_distance': 1e-3\n",
    "                           })\n",
    "kwargs_ps = [{'ra_source': 0, 'dec_source': 0, 'source_amp': 10}]\n",
    "pointSource.image_position(kwargs_ps, kwargs_lens)/theta_E"
   ]
  },
  {
   "cell_type": "code",
   "execution_count": 7,
   "metadata": {},
   "outputs": [],
   "source": [
    "beta_s = size_s/2\n",
    "\n",
    "pixel_size, xx, yy = abm.adaptive_boundary_mesh(\n",
    "    source_position=(0, 0), L=theta_E*4, beta_0=theta_E*16, beta_s=beta_s, lensModel=lens, kwargs_lens=kwargs_lens, verbose=False\n",
    ")"
   ]
  },
  {
   "cell_type": "code",
   "execution_count": 110,
   "metadata": {},
   "outputs": [
    {
     "name": "stdout",
     "output_type": "stream",
     "text": [
      "amplification 2.1828294896426215\n"
     ]
    }
   ],
   "source": [
    "print('amplification', pixel_size**2*len(xx)/(np.pi*beta_s**2))"
   ]
  },
  {
   "cell_type": "code",
   "execution_count": 29,
   "metadata": {},
   "outputs": [
    {
     "data": {
      "text/plain": [
       "<Axes: xlabel='x', ylabel='y'>"
      ]
     },
     "execution_count": 29,
     "metadata": {},
     "output_type": "execute_result"
    },
    {
     "data": {
      "image/png": "[encoded data removed]",
      "text/plain": [
       "<Figure size 640x480 with 2 Axes>"
      ]
     },
     "metadata": {},
     "output_type": "display_data"
    }
   ],
   "source": [
    "import seaborn as sns\n",
    "sns.histplot({'x': xx/theta_E, 'y': yy/theta_E}, x='x', y='y', cbar=True)"
   ]
  },
  {
   "cell_type": "markdown",
   "metadata": {},
   "source": [
    "theoretically, the amplification"
   ]
  },
  {
   "cell_type": "code",
   "execution_count": 13,
   "metadata": {},
   "outputs": [
    {
     "name": "stdout",
     "output_type": "stream",
     "text": [
      "2.182820625326997\n"
     ]
    }
   ],
   "source": [
    "u = 0.5\n",
    "A = (u*u+2)/(u*(np.sqrt(u*u+4)))\n",
    "print(A)"
   ]
  },
  {
   "cell_type": "markdown",
   "metadata": {},
   "source": [
    "my purpose: digitize the ray tracing result into a figure of low resolution(but higher than the target resolution) and convolve it with a psf, downgrade the figure to get the final figure."
   ]
  },
  {
   "cell_type": "code",
   "execution_count": 8,
   "metadata": {},
   "outputs": [],
   "source": [
    "from scipy.stats import binned_statistic_2d"
   ]
  },
  {
   "cell_type": "code",
   "execution_count": 38,
   "metadata": {},
   "outputs": [],
   "source": [
    "fig_size = 8*theta_E\n",
    "resolution = 1e-5\n",
    "Npix = int(fig_size/resolution)\n",
    "x_coor = y_coor = np.arange(Npix)*resolution - fig_size/2"
   ]
  },
  {
   "cell_type": "code",
   "execution_count": 39,
   "metadata": {},
   "outputs": [],
   "source": [
    "result = binned_statistic_2d(x=xx, y=yy, values=None, statistic='count', bins=[x_coor, y_coor])"
   ]
  },
  {
   "cell_type": "code",
   "execution_count": 40,
   "metadata": {},
   "outputs": [
    {
     "data": {
      "text/plain": [
       "3"
      ]
     },
     "execution_count": 40,
     "metadata": {},
     "output_type": "execute_result"
    }
   ],
   "source": [
    "(result.statistic > 0).sum()"
   ]
  },
  {
   "cell_type": "code",
   "execution_count": 29,
   "metadata": {},
   "outputs": [
    {
     "data": {
      "text/plain": [
       "<matplotlib.image.AxesImage at 0x14e77e48bef0>"
      ]
     },
     "execution_count": 29,
     "metadata": {},
     "output_type": "execute_result"
    },
    {
     "data": {
      "image/png": "[encoded data removed]",
      "text/plain": [
       "<Figure size 640x480 with 1 Axes>"
      ]
     },
     "metadata": {},
     "output_type": "display_data"
    }
   ],
   "source": [
    "plt.imshow(result.statistic)"
   ]
  },
  {
   "cell_type": "code",
   "execution_count": null,
   "metadata": {},
   "outputs": [],
   "source": []
  },
  {
   "cell_type": "code",
   "execution_count": null,
   "metadata": {},
   "outputs": [],
   "source": []
  },
  {
   "cell_type": "code",
   "execution_count": null,
   "metadata": {},
   "outputs": [],
   "source": []
  }
 ],
 "metadata": {
  "kernelspec": {
   "display_name": "galsim",
   "language": "python",
   "name": "python3"
  },
  "language_info": {
   "codemirror_mode": {
    "name": "ipython",
    "version": 3
   },
   "file_extension": ".py",
   "mimetype": "text/x-python",
   "name": "python",
   "nbconvert_exporter": "python",
   "pygments_lexer": "ipython3",
   "version": "3.12.4"
  }
 },
 "nbformat": 4,
 "nbformat_minor": 2
}
