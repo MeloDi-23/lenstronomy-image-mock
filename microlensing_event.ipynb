{
 "cells": [
  {
   "cell_type": "code",
   "execution_count": 1,
   "metadata": {},
   "outputs": [],
   "source": [
    "import pandas as pd"
   ]
  },
  {
   "cell_type": "code",
   "execution_count": 3,
   "metadata": {},
   "outputs": [],
   "source": [
    "dat = pd.read_csv('./valid_rows14_ori_1e-8_cut_giantbranch.csv')"
   ]
  },
  {
   "cell_type": "code",
   "execution_count": 7,
   "metadata": {},
   "outputs": [],
   "source": [
    "dat = dat.drop(['Unnamed: 0.3',  'Unnamed: 0.2',  'Unnamed: 0.1',  'Unnamed: 0'], axis=1)"
   ]
  },
  {
   "cell_type": "code",
   "execution_count": 16,
   "metadata": {},
   "outputs": [
    {
     "name": "stdout",
     "output_type": "stream",
     "text": [
      "source_id\n",
      "objid\n",
      "ra\n",
      "dec\n",
      "type\n",
      "specobjid\n",
      "u\n",
      "g\n",
      "r\n",
      "i\n",
      "z\n",
      "err_u\n",
      "err_g\n",
      "err_r\n",
      "err_i\n",
      "err_z\n",
      "dered_u\n",
      "dered_g\n",
      "dered_r\n",
      "dered_i\n",
      "dered_z\n",
      "source_id.1\n",
      "angular_distance\n",
      "number_of_neighbours\n",
      "number_of_mates\n",
      "parallax\n",
      "phot_g_mean_mag\n",
      "phot_bp_mean_mag\n",
      "phot_rp_mean_mag\n",
      "parallax_error\n",
      "parallax_over_error\n",
      "phot_g_mean_flux_error\n",
      "phot_bp_mean_flux_error\n",
      "phot_rp_mean_flux_error\n",
      "run\n",
      "camcol\n",
      "field\n",
      "clean\n",
      "l\n",
      "b\n",
      "teff_gspphot\n",
      "ag_gspphot\n",
      "ebpminrp_gspphot\n",
      "logg_gspphot\n",
      "mh_gspphot\n",
      "phot_variable_flag\n",
      "psfMag_u\n",
      "psfMag_g\n",
      "psfMag_r\n",
      "psfMag_i\n",
      "psfMag_z\n",
      "psfMagErr_u\n",
      "psfMagErr_g\n",
      "psfMagErr_r\n",
      "psfMagErr_i\n",
      "psfMagErr_z\n",
      "fiberMag_u\n",
      "fiberMag_g\n",
      "fiberMag_r\n",
      "fiberMag_i\n",
      "fiberMag_z\n",
      "fiberMagerr_u\n",
      "fiberMagerr_g\n",
      "fiberMagerr_r\n",
      "fiberMagerr_i\n",
      "fiberMagerr_z\n",
      "petroMag_u\n",
      "petroMag_g\n",
      "petroMag_r\n",
      "petroMag_i\n",
      "petroMag_z\n",
      "petroMagerr_u\n",
      "petroMagerr_g\n",
      "petroMagerr_r\n",
      "petroMagerr_i\n",
      "petroMagerr_z\n",
      "modelMag_u\n",
      "modelMag_g\n",
      "modelMag_r\n",
      "modelMag_i\n",
      "modelMag_z\n",
      "extinction_u\n",
      "extinction_g\n",
      "extinction_r\n",
      "extinction_i\n",
      "extinction_z\n",
      "mag_g\n",
      "mag_g_ag\n",
      "mag_bp\n",
      "mag_bp_ag\n",
      "mag_rp\n",
      "mag_rp_ag\n",
      "abs_u_sdss\n",
      "abs_g_sdss\n",
      "abs_r_sdss\n",
      "abs_i_sdss\n",
      "abs_z_sdss\n",
      "abs_psf_u_sdss_ag\n",
      "abs_psf_g_sdss_ag\n",
      "abs_psf_r_sdss_ag\n",
      "abs_psf_i_sdss_ag\n",
      "abs_psf_z_sdss_ag\n",
      "abs_psf_u_sdss\n",
      "abs_psf_g_sdss\n",
      "abs_psf_r_sdss\n",
      "abs_psf_i_sdss\n",
      "abs_psf_z_sdss\n",
      "psfmagerr_u\n",
      "psfmagerr_g\n",
      "psfmagerr_r\n",
      "psfmagerr_i\n",
      "psfmagerr_z\n",
      "outlier_median_g_sdss\n",
      "outlier_median_r_sdss\n",
      "outlier_median_i_sdss\n",
      "outlier_indices_sdss\n",
      "outlier_std_g_sdss\n",
      "outlier_std_r_sdss\n",
      "outlier_std_i_sdss\n",
      "outlier_mean_g_sdss\n",
      "outlier_mean_r_sdss\n",
      "outlier_mean_i_sdss\n",
      "outlier_mean_err_g_sdss\n",
      "outlier_mean_err_r_sdss\n",
      "outlier_mean_err_i_sdss\n",
      "delta_g_sdss\n",
      "delta_r_sdss\n",
      "delta_i_sdss\n",
      "err_delta_g_sdss\n",
      "err_delta_r_sdss\n",
      "err_delta_i_sdss\n",
      "valid_range_lower_g\n",
      "valid_range_upper_g\n",
      "valid_range_lower_r\n",
      "valid_range_upper_r\n",
      "valid_range_lower_i\n",
      "valid_range_upper_i\n"
     ]
    }
   ],
   "source": [
    "for s in dat.columns:\n",
    "    print(s)"
   ]
  },
  {
   "cell_type": "code",
   "execution_count": 12,
   "metadata": {},
   "outputs": [],
   "source": [
    "d_s = (1/dat['parallax'])"
   ]
  },
  {
   "cell_type": "code",
   "execution_count": 30,
   "metadata": {},
   "outputs": [
    {
     "data": {
      "text/plain": [
       "0     0.535765\n",
       "1     0.952067\n",
       "2     1.315319\n",
       "3     0.291215\n",
       "4     0.617776\n",
       "5     0.526386\n",
       "6     7.862776\n",
       "7     0.484488\n",
       "8     0.666102\n",
       "9     0.604575\n",
       "10    0.636313\n",
       "11    1.144309\n",
       "12    0.802729\n",
       "13    1.087657\n",
       "Name: parallax, dtype: float64"
      ]
     },
     "execution_count": 30,
     "metadata": {},
     "output_type": "execute_result"
    }
   ],
   "source": [
    "dat['parallax']"
   ]
  },
  {
   "cell_type": "code",
   "execution_count": 13,
   "metadata": {},
   "outputs": [
    {
     "data": {
      "text/plain": [
       "0     1.866489\n",
       "1     1.050346\n",
       "2     0.760272\n",
       "3     3.433889\n",
       "4     1.618710\n",
       "5     1.899746\n",
       "6     0.127182\n",
       "7     2.064034\n",
       "8     1.501272\n",
       "9     1.654055\n",
       "10    1.571552\n",
       "11    0.873890\n",
       "12    1.245751\n",
       "13    0.919407\n",
       "Name: parallax, dtype: float64"
      ]
     },
     "execution_count": 13,
     "metadata": {},
     "output_type": "execute_result"
    }
   ],
   "source": [
    "d_s"
   ]
  },
  {
   "cell_type": "code",
   "execution_count": 17,
   "metadata": {},
   "outputs": [
    {
     "data": {
      "text/plain": [
       "0     18.614183\n",
       "1     33.681087\n",
       "2     67.832030\n",
       "3     12.522301\n",
       "4     25.541506\n",
       "5     19.366182\n",
       "6     75.792500\n",
       "7     15.629940\n",
       "8     34.881695\n",
       "9     26.289278\n",
       "10    27.367188\n",
       "11    31.181032\n",
       "12    22.875088\n",
       "13    40.645737\n",
       "Name: parallax_over_error, dtype: float64"
      ]
     },
     "execution_count": 17,
     "metadata": {},
     "output_type": "execute_result"
    }
   ],
   "source": [
    "dat['parallax_over_error']"
   ]
  },
  {
   "cell_type": "code",
   "execution_count": 20,
   "metadata": {},
   "outputs": [
    {
     "data": {
      "text/html": [
       "<div>\n",
       "<style scoped>\n",
       "    .dataframe tbody tr th:only-of-type {\n",
       "        vertical-align: middle;\n",
       "    }\n",
       "\n",
       "    .dataframe tbody tr th {\n",
       "        vertical-align: top;\n",
       "    }\n",
       "\n",
       "    .dataframe thead th {\n",
       "        text-align: right;\n",
       "    }\n",
       "</style>\n",
       "<table border=\"1\" class=\"dataframe\">\n",
       "  <thead>\n",
       "    <tr style=\"text-align: right;\">\n",
       "      <th></th>\n",
       "      <th>objid</th>\n",
       "      <th>ra</th>\n",
       "      <th>dec</th>\n",
       "    </tr>\n",
       "  </thead>\n",
       "  <tbody>\n",
       "    <tr>\n",
       "      <th>0</th>\n",
       "      <td>1237666214078054463</td>\n",
       "      <td>20.954906</td>\n",
       "      <td>32.713793</td>\n",
       "    </tr>\n",
       "    <tr>\n",
       "      <th>1</th>\n",
       "      <td>1237668735759090903</td>\n",
       "      <td>280.251208</td>\n",
       "      <td>40.955638</td>\n",
       "    </tr>\n",
       "    <tr>\n",
       "      <th>2</th>\n",
       "      <td>1237668735221694926</td>\n",
       "      <td>278.554794</td>\n",
       "      <td>40.942941</td>\n",
       "    </tr>\n",
       "    <tr>\n",
       "      <th>3</th>\n",
       "      <td>1237671936042270828</td>\n",
       "      <td>256.066094</td>\n",
       "      <td>38.733200</td>\n",
       "    </tr>\n",
       "    <tr>\n",
       "      <th>4</th>\n",
       "      <td>1237658300596748498</td>\n",
       "      <td>133.168522</td>\n",
       "      <td>5.693875</td>\n",
       "    </tr>\n",
       "    <tr>\n",
       "      <th>5</th>\n",
       "      <td>1237652900772708359</td>\n",
       "      <td>56.590607</td>\n",
       "      <td>-6.054287</td>\n",
       "    </tr>\n",
       "    <tr>\n",
       "      <th>6</th>\n",
       "      <td>1237667733962227736</td>\n",
       "      <td>161.199648</td>\n",
       "      <td>19.719542</td>\n",
       "    </tr>\n",
       "    <tr>\n",
       "      <th>7</th>\n",
       "      <td>1237666275808706613</td>\n",
       "      <td>11.793020</td>\n",
       "      <td>25.327967</td>\n",
       "    </tr>\n",
       "    <tr>\n",
       "      <th>8</th>\n",
       "      <td>1237659327096291388</td>\n",
       "      <td>232.388588</td>\n",
       "      <td>51.158103</td>\n",
       "    </tr>\n",
       "    <tr>\n",
       "      <th>9</th>\n",
       "      <td>1237668734684627331</td>\n",
       "      <td>277.880376</td>\n",
       "      <td>40.764244</td>\n",
       "    </tr>\n",
       "    <tr>\n",
       "      <th>10</th>\n",
       "      <td>1237670014577737745</td>\n",
       "      <td>21.202029</td>\n",
       "      <td>6.191432</td>\n",
       "    </tr>\n",
       "    <tr>\n",
       "      <th>11</th>\n",
       "      <td>1237662238553735321</td>\n",
       "      <td>216.439956</td>\n",
       "      <td>9.297139</td>\n",
       "    </tr>\n",
       "    <tr>\n",
       "      <th>12</th>\n",
       "      <td>1237654948378640498</td>\n",
       "      <td>243.115247</td>\n",
       "      <td>50.635710</td>\n",
       "    </tr>\n",
       "    <tr>\n",
       "      <th>13</th>\n",
       "      <td>1237651066813677577</td>\n",
       "      <td>170.700007</td>\n",
       "      <td>64.569447</td>\n",
       "    </tr>\n",
       "  </tbody>\n",
       "</table>\n",
       "</div>"
      ],
      "text/plain": [
       "                  objid          ra        dec\n",
       "0   1237666214078054463   20.954906  32.713793\n",
       "1   1237668735759090903  280.251208  40.955638\n",
       "2   1237668735221694926  278.554794  40.942941\n",
       "3   1237671936042270828  256.066094  38.733200\n",
       "4   1237658300596748498  133.168522   5.693875\n",
       "5   1237652900772708359   56.590607  -6.054287\n",
       "6   1237667733962227736  161.199648  19.719542\n",
       "7   1237666275808706613   11.793020  25.327967\n",
       "8   1237659327096291388  232.388588  51.158103\n",
       "9   1237668734684627331  277.880376  40.764244\n",
       "10  1237670014577737745   21.202029   6.191432\n",
       "11  1237662238553735321  216.439956   9.297139\n",
       "12  1237654948378640498  243.115247  50.635710\n",
       "13  1237651066813677577  170.700007  64.569447"
      ]
     },
     "execution_count": 20,
     "metadata": {},
     "output_type": "execute_result"
    }
   ],
   "source": [
    "dat[['objid', 'ra','dec']]"
   ]
  },
  {
   "cell_type": "code",
   "execution_count": 29,
   "metadata": {},
   "outputs": [
    {
     "data": {
      "text/plain": [
       "18.68341386666667"
      ]
     },
     "execution_count": 29,
     "metadata": {},
     "output_type": "execute_result"
    }
   ],
   "source": [
    "280.251208/15"
   ]
  },
  {
   "cell_type": "code",
   "execution_count": 21,
   "metadata": {},
   "outputs": [
    {
     "data": {
      "text/plain": [
       "0.34236977142857145"
      ]
     },
     "execution_count": 21,
     "metadata": {},
     "output_type": "execute_result"
    }
   ],
   "source": [
    "z = 7.988628E-05\n",
    "3e5*z/70"
   ]
  },
  {
   "cell_type": "code",
   "execution_count": 23,
   "metadata": {},
   "outputs": [],
   "source": [
    "from astropy import constants as const\n",
    "from astropy.cosmology import Planck18 as cosmos\n",
    "from astropy import units as u"
   ]
  },
  {
   "cell_type": "code",
   "execution_count": 25,
   "metadata": {},
   "outputs": [
    {
     "data": {
      "text/latex": [
       "$353965.48 \\; \\mathrm{pc}$"
      ],
      "text/plain": [
       "<Quantity 353965.4780029 pc>"
      ]
     },
     "execution_count": 25,
     "metadata": {},
     "output_type": "execute_result"
    }
   ],
   "source": [
    "(const.c*z/cosmos.H0).to(u.pc)"
   ]
  }
 ],
 "metadata": {
  "kernelspec": {
   "display_name": "Python 3",
   "language": "python",
   "name": "python3"
  },
  "language_info": {
   "codemirror_mode": {
    "name": "ipython",
    "version": 3
   },
   "file_extension": ".py",
   "mimetype": "text/x-python",
   "name": "python",
   "nbconvert_exporter": "python",
   "pygments_lexer": "ipython3",
   "version": "3.12.4"
  }
 },
 "nbformat": 4,
 "nbformat_minor": 2
}
