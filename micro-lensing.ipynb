{
 "cells": [
  {
   "cell_type": "markdown",
   "id": "5f23d9b4",
   "metadata": {},
   "source": [
    "# Stellar micro-lensing simulation\n",
    "\n",
    "In this notebook, we simulate and animate stellar micro-lensing events.\n",
    "Lentstronomy does not perform any approximations to speed up the calculation and is capable to compute micro-lensing events of arbitrary complexities"
   ]
  },
  {
   "cell_type": "code",
   "execution_count": 7,
   "id": "ed3976da",
   "metadata": {},
   "outputs": [],
   "source": [
    "import matplotlib.pyplot as plt\n",
    "%matplotlib inline\n",
    "import numpy as np"
   ]
  },
  {
   "cell_type": "code",
   "execution_count": 8,
   "id": "84d8e271",
   "metadata": {},
   "outputs": [],
   "source": [
    "from lenstronomy.LensModel.lens_model import LensModel\n",
    "from lenstronomy.LightModel.light_model import LightModel\n",
    "from lenstronomy.ImSim.image_model import ImageModel\n",
    "from lenstronomy.Data.psf import PSF\n",
    "from lenstronomy.Util.util import make_grid\n",
    "from lenstronomy.Data.pixel_grid import PixelGrid"
   ]
  },
  {
   "cell_type": "code",
   "execution_count": 9,
   "id": "0c87b1d9",
   "metadata": {},
   "outputs": [],
   "source": [
    "# define the microlens\n",
    "\n",
    "# =========\n",
    "# distances\n",
    "# =========\n",
    "\n",
    "d_l = 4000  # distance of the lens in pc\n",
    "d_s = 8000  # distance of the source in pc\n",
    "# diameter of milky way 50kpc\n",
    "# distance from solar to milky way centre 8kpc\n",
    "\n",
    "# ===========\n",
    "# lens system\n",
    "# ===========\n",
    "\n",
    "M0 = 1e3  # typical mass of IMBH in units of M_sol\n",
    "\n",
    "# ===========\n",
    "# source size\n",
    "# ===========\n",
    "\n",
    "diameter_s = 1  # size of the radius of the source star in units of the solar radius"
   ]
  },
  {
   "cell_type": "code",
   "execution_count": 10,
   "id": "762f9c65",
   "metadata": {},
   "outputs": [
    {
     "name": "stdout",
     "output_type": "stream",
     "text": [
      "0.03191026155192734 Einstein radius [arc seconds]\n",
      "1.163118159836867e-06 source size [arc seconds]\n"
     ]
    }
   ],
   "source": [
    "# compute lensing properties\n",
    "from lenstronomy.Cosmo.micro_lensing import einstein_radius, source_size\n",
    "\n",
    "theta_E = einstein_radius(M0, d_l, d_s)\n",
    "print(theta_E, 'Einstein radius [arc seconds]')\n",
    "\n",
    "size_s = source_size(diameter_s, d_s)\n",
    "print(size_s, 'source size [arc seconds]')"
   ]
  },
  {
   "cell_type": "code",
   "execution_count": 5,
   "id": "4bf53df0",
   "metadata": {},
   "outputs": [],
   "source": [
    "# compute ray-tracing grid\n",
    "\n",
    "grid_scale = size_s / 4.  # ten times the source size resolution\n",
    "grid_width = theta_E * 4\n",
    "num_pix = int(grid_width / grid_scale)\n",
    "print(num_pix)\n",
    "\n",
    "from lenstronomy.Util import util\n",
    "x, y = util.make_grid(numPix=num_pix, deltapix=grid_scale)"
   ]
  },
  {
   "cell_type": "code",
   "execution_count": 11,
   "id": "673f797c",
   "metadata": {},
   "outputs": [],
   "source": [
    "# map image to source plane\n",
    "lens = LensModel(lens_model_list=['POINT_MASS'])\n",
    "kwargs_lens = [{'theta_E': theta_E, 'center_x': 0, 'center_y': 0}]"
   ]
  },
  {
   "cell_type": "code",
   "execution_count": 12,
   "id": "77fd4c24",
   "metadata": {},
   "outputs": [],
   "source": [
    "fwhm = 0.7\n",
    "deltaPix = 0.2\n",
    "kwargs_psf = {'psf_type': 'GAUSSIAN',   # type of PSF model (supports 'GAUSSIAN' and 'PIXEL')\n",
    "              'fwhm': fwhm,             # full width at half maximum of the Gaussian PSF (in angular units)\n",
    "              'pixel_size': deltaPix    # angular scale of a pixel (required for a Gaussian PSF to translate the FWHM into a pixel scale)\n",
    "             }\n",
    "psf = PSF(**kwargs_psf)"
   ]
  },
  {
   "cell_type": "code",
   "execution_count": 13,
   "id": "b089fd59",
   "metadata": {},
   "outputs": [],
   "source": [
    "num_pix = 30\n",
    "x0 = make_grid(num_pix, deltaPix)[0][0]\n",
    "ra_at_xy_0 = dec_at_xy_0 = x0 # coordinate in angles (RA/DEC) at the position of the pixel edge (0,0)\n",
    "transform_pix2angle = np.array([[1, 0], [0, 1]]) * deltaPix  # linear translation matrix of a shift in pixel in a shift in coordinates\n",
    "kwargs_pixel = {'nx': num_pix, 'ny': num_pix,  # number of pixels per axis\n",
    "                'ra_at_xy_0': ra_at_xy_0,  # RA at pixel (0,0)\n",
    "                'dec_at_xy_0': dec_at_xy_0,  # DEC at pixel (0,0)\n",
    "                'transform_pix2angle': transform_pix2angle}\n",
    "pixel_grid = PixelGrid(**kwargs_pixel)"
   ]
  },
  {
   "cell_type": "code",
   "execution_count": 14,
   "id": "0dcdc164",
   "metadata": {},
   "outputs": [],
   "source": [
    "supersampling_factor = 5\n",
    "kwargs_numerics = {'supersampling_factor': supersampling_factor, # super sampling factor of (partial) high resolution ray-tracing\n",
    "                        'compute_mode': 'regular', # 'regular' or 'adaptive'\n",
    "                        'supersampling_convolution': True,  # bool, if True, performs the supersampled convolution (either on regular or adaptive grid)\n",
    "                        'supersampling_kernel_size': None,  # size of the higher resolution kernel region (can be smaller than the original kernel). None leads to use the full size\n",
    "                        'flux_evaluate_indexes': None,  # bool mask, if None, it will evaluate all (sub) pixels\n",
    "                        'supersampled_indexes': None,  # bool mask of pixels to be computed in supersampled grid (only for adaptive mode)\n",
    "                        'compute_indexes': None,  # bool mask of pixels to be computed the PSF response (flux being added to). Only used for adaptive mode and can be set =likelihood mask.\n",
    "                        'point_source_supersampling_factor': 1,  # int, supersampling factor when rendering a point source (not used in this script)\n",
    "                       }"
   ]
  },
  {
   "cell_type": "markdown",
   "id": "79ce0db9",
   "metadata": {},
   "source": [
    "## ELLIPSOID"
   ]
  },
  {
   "cell_type": "code",
   "execution_count": 9,
   "id": "0feb561f",
   "metadata": {},
   "outputs": [
    {
     "data": {
      "text/plain": [
       "<matplotlib.image.AxesImage at 0x145a008adc10>"
      ]
     },
     "execution_count": 9,
     "metadata": {},
     "output_type": "execute_result"
    },
    {
     "data": {
      "image/png": "[encoded data removed]",
      "text/plain": [
       "<Figure size 640x480 with 1 Axes>"
      ]
     },
     "metadata": {},
     "output_type": "display_data"
    }
   ],
   "source": [
    "light = LightModel(light_model_list=['ELLIPSOID'])\n",
    "kwargs_light = [{'amp': 10, 'radius': size_s/2 * 10, 'e1': 0, 'e2': 0, 'center_x': 0, 'center_y': 0}]\n",
    "imageModel = ImageModel(data_class=pixel_grid, psf_class=psf, lens_model_class=lens,\n",
    "                                    source_model_class=light,\n",
    "                                    point_source_class=None, kwargs_numerics=kwargs_numerics)\n",
    "image = imageModel.image(kwargs_lens = [{'theta_E': theta_E, 'center_x': 0*theta_E, 'center_y': 0}], kwargs_source=kwargs_light)\n",
    "plt.imshow(image)"
   ]
  },
  {
   "cell_type": "markdown",
   "id": "11e34d9f",
   "metadata": {},
   "source": [
    "## GAUSSIAN"
   ]
  },
  {
   "cell_type": "code",
   "execution_count": 10,
   "id": "aedc2511",
   "metadata": {},
   "outputs": [
    {
     "data": {
      "text/plain": [
       "<matplotlib.image.AxesImage at 0x145a092de690>"
      ]
     },
     "execution_count": 10,
     "metadata": {},
     "output_type": "execute_result"
    },
    {
     "data": {
      "image/png": "[encoded data removed]",
      "text/plain": [
       "<Figure size 640x480 with 1 Axes>"
      ]
     },
     "metadata": {},
     "output_type": "display_data"
    }
   ],
   "source": [
    "light = LightModel(light_model_list=['GAUSSIAN'])\n",
    "kwargs_light = [{'amp': 100, 'center_x': 0, 'center_y': 0, 'sigma': size_s/2*10}]\n",
    "imageModel = ImageModel(data_class=pixel_grid, psf_class=psf, lens_model_class=lens,\n",
    "                                    source_model_class=light,\n",
    "                                    point_source_class=None, kwargs_numerics=kwargs_numerics)\n",
    "image = imageModel.image(kwargs_lens = [{'theta_E': theta_E, 'center_x': 0, 'center_y': 0}], kwargs_source=kwargs_light)\n",
    "plt.imshow(image)"
   ]
  },
  {
   "cell_type": "markdown",
   "id": "1343fac5",
   "metadata": {},
   "source": [
    "## POINT SOURCE"
   ]
  },
  {
   "cell_type": "code",
   "execution_count": 16,
   "id": "400da581",
   "metadata": {},
   "outputs": [],
   "source": [
    "from lenstronomy.PointSource.point_source import PointSource\n",
    "# unlensed source positon #\n",
    "point_source_model_list = ['SOURCE_POSITION']\n",
    "pointSource = PointSource(point_source_type_list=point_source_model_list, lens_model=lens, fixed_magnification_list=[True])\n",
    "kwargs_ps = [{'ra_source': 0, 'dec_source': 0, 'source_amp': 10}]"
   ]
  },
  {
   "cell_type": "code",
   "execution_count": 17,
   "id": "6954ec51",
   "metadata": {},
   "outputs": [
    {
     "data": {
      "text/plain": [
       "<matplotlib.image.AxesImage at 0x14fa03f8e3c0>"
      ]
     },
     "execution_count": 17,
     "metadata": {},
     "output_type": "execute_result"
    },
    {
     "data": {
      "image/png": "[encoded data removed]",
      "text/plain": [
       "<Figure size 640x480 with 1 Axes>"
      ]
     },
     "metadata": {},
     "output_type": "display_data"
    }
   ],
   "source": [
    "imageModel = ImageModel(data_class=pixel_grid, psf_class=psf, lens_model_class=lens,\n",
    "                                    point_source_class=pointSource, kwargs_numerics=kwargs_numerics)\n",
    "image = imageModel.image(\n",
    "    kwargs_lens = [{'theta_E': theta_E, 'center_x':0.17086807693848496, 'center_y': 0.026518134537171903}],\n",
    "    kwargs_ps=[{'ra_source': 0.17218850155442678, 'dec_source': 0.030479408384997367, 'source_amp': 100}])\n",
    "plt.imshow(image)"
   ]
  },
  {
   "cell_type": "code",
   "execution_count": 15,
   "id": "1f8c9b8c",
   "metadata": {},
   "outputs": [
    {
     "data": {
      "text/plain": [
       "<matplotlib.image.AxesImage at 0x145a00888140>"
      ]
     },
     "execution_count": 15,
     "metadata": {},
     "output_type": "execute_result"
    },
    {
     "data": {
      "image/png": "[encoded data removed]",
      "text/plain": [
       "<Figure size 640x480 with 1 Axes>"
      ]
     },
     "metadata": {},
     "output_type": "display_data"
    }
   ],
   "source": [
    "image = imageModel.image(\n",
    "    kwargs_lens = [{'theta_E': theta_E, 'center_x':-0.001320424615941812, 'center_y': 0.003961273847825464}],\n",
    "    kwargs_ps=[{'ra_source': 0, 'dec_source': 0, 'source_amp': 100}])\n",
    "plt.imshow(image)"
   ]
  },
  {
   "cell_type": "code",
   "execution_count": 61,
   "id": "ca2afac4",
   "metadata": {},
   "outputs": [
    {
     "data": {
      "text/plain": [
       "True"
      ]
     },
     "execution_count": 61,
     "metadata": {},
     "output_type": "execute_result"
    }
   ],
   "source": [
    "(imageModel.point_source(kwargs_ps, kwargs_lens)).any()"
   ]
  },
  {
   "cell_type": "code",
   "execution_count": 22,
   "id": "68ab61ab",
   "metadata": {},
   "outputs": [],
   "source": [
    "pointSource = PointSource(\n",
    "    point_source_type_list=point_source_model_list, lens_model=lens, fixed_magnification_list=[True], \n",
    "    kwargs_lens_eqn_solver={'search_window': 0.5, 'precision_limit': deltaPix/100})"
   ]
  },
  {
   "cell_type": "code",
   "execution_count": 27,
   "id": "e8787cb3",
   "metadata": {},
   "outputs": [],
   "source": [
    "imageModel = ImageModel(data_class=pixel_grid, psf_class=psf, lens_model_class=lens,\n",
    "                                    point_source_class=pointSource, kwargs_numerics=kwargs_numerics)"
   ]
  },
  {
   "cell_type": "code",
   "execution_count": 71,
   "id": "b46bfb97",
   "metadata": {},
   "outputs": [
    {
     "data": {
      "text/plain": [
       "<matplotlib.image.AxesImage at 0x1459fc2cd6d0>"
      ]
     },
     "execution_count": 71,
     "metadata": {},
     "output_type": "execute_result"
    },
    {
     "data": {
      "image/png": "[encoded data removed]",
      "text/plain": [
       "<Figure size 640x480 with 1 Axes>"
      ]
     },
     "metadata": {},
     "output_type": "display_data"
    }
   ],
   "source": [
    "plt.imshow(imageModel.point_source(kwargs_ps, kwargs_lens))"
   ]
  },
  {
   "cell_type": "code",
   "execution_count": 28,
   "id": "7707ed5e",
   "metadata": {},
   "outputs": [],
   "source": [
    "from lenstronomy.LensModel.Solver.lens_equation_solver import LensEquationSolver\n",
    "lens_solver = LensEquationSolver(lens)"
   ]
  },
  {
   "cell_type": "code",
   "execution_count": 29,
   "id": "c7384bd2",
   "metadata": {},
   "outputs": [
    {
     "data": {
      "text/plain": [
       "(array([-0.02311289,  0.06788468]), array([-0.02919864,  0.08575907]))"
      ]
     },
     "execution_count": 29,
     "metadata": {},
     "output_type": "execute_result"
    }
   ],
   "source": [
    "lens_solver.image_position_stochastic(0, 0, kwargs_lens)"
   ]
  },
  {
   "cell_type": "code",
   "execution_count": 30,
   "id": "c61d99e4",
   "metadata": {},
   "outputs": [
    {
     "data": {
      "text/plain": [
       "(array([-0.02311201,  0.06788384]), array([-0.02919989,  0.08576113]))"
      ]
     },
     "execution_count": 30,
     "metadata": {},
     "output_type": "execute_result"
    }
   ],
   "source": [
    "lens_solver.image_position_stochastic(0, 0, kwargs_lens, search_window=0.5, num_random=100, precision_limit=deltaPix/100)"
   ]
  },
  {
   "cell_type": "code",
   "execution_count": 60,
   "id": "4c8c5200",
   "metadata": {},
   "outputs": [
    {
     "name": "stdout",
     "output_type": "stream",
     "text": [
      "There are 2 regions identified that could contain a solution of the lens equation withcoordinates [0. 0.] and [0.   0.14] \n",
      "The number of regions that meet the plausibility criteria are 1\n",
      "Solution found for region 0 with required precision at iteration 1\n"
     ]
    },
    {
     "data": {
      "text/plain": [
       "(array([-0.00048229]), array([-0.00728676]))"
      ]
     },
     "execution_count": 60,
     "metadata": {},
     "output_type": "execute_result"
    }
   ],
   "source": [
    "lens_solver.image_position_lenstronomy(0, 0, kwargs_lens, search_window=0.5, verbose=True, min_distance=deltaPix/10, precision_limit=deltaPix/100)"
   ]
  },
  {
   "cell_type": "code",
   "execution_count": 80,
   "id": "0de7d7ed",
   "metadata": {},
   "outputs": [
    {
     "data": {
      "text/plain": [
       "([array([0.01256765])], [array([0.09659287])])"
      ]
     },
     "execution_count": 80,
     "metadata": {},
     "output_type": "execute_result"
    }
   ],
   "source": [
    "pointSource = PointSource(\n",
    "    point_source_type_list=point_source_model_list, lens_model=lens, fixed_magnification_list=[True],\n",
    "    kwargs_lens_eqn_solver={'search_window': -x0*2, 'precision_limit': 1e-10, 'min_distance': deltaPix/10})\n",
    "# kwargs_lens = [{'theta_E': 0.06382052310385468, 'center_x': 0.04477179191557566, 'center_y': 0.05656043420416472}]\n",
    "# kwargs_ps = [{'ra_source': 0.04279115499166293, 'dec_source': 0.050618523432426524, 'source_amp': 100}]\n",
    "kwargs_lens = [{'theta_E': theta_E, 'center_x': 0.008698220099428666, 'center_y': 0.13141776783747605}]\n",
    "kwargs_ps = [{'ra_source': 0.009358432407399576, 'dec_source': 0.12547585706573786, 'source_amp': 100}]\n",
    "\n",
    "pointSource.image_position(kwargs_ps, kwargs_lens)"
   ]
  },
  {
   "cell_type": "code",
   "execution_count": 73,
   "id": "85fbe8c4",
   "metadata": {},
   "outputs": [],
   "source": [
    "from lenstronomy.ImSim.Numerics.point_source_rendering import PointSourceRendering"
   ]
  },
  {
   "cell_type": "code",
   "execution_count": 78,
   "id": "11140d87",
   "metadata": {},
   "outputs": [
    {
     "data": {
      "text/plain": [
       "<matplotlib.image.AxesImage at 0x14c0eb072510>"
      ]
     },
     "execution_count": 78,
     "metadata": {},
     "output_type": "execute_result"
    },
    {
     "data": {
      "image/png": "[encoded data removed]",
      "text/plain": [
       "<Figure size 640x480 with 1 Axes>"
      ]
     },
     "metadata": {},
     "output_type": "display_data"
    }
   ],
   "source": [
    "render = PointSourceRendering(pixel_grid, 1, psf)\n",
    "im = render.point_source_rendering([0,0.5], [0,0], [10,10])\n",
    "plt.imshow(im)"
   ]
  },
  {
   "cell_type": "code",
   "execution_count": null,
   "id": "ceb5ab25",
   "metadata": {},
   "outputs": [],
   "source": []
  }
 ],
 "metadata": {
  "kernelspec": {
   "display_name": "Python 3",
   "language": "python",
   "name": "python3"
  },
  "language_info": {
   "codemirror_mode": {
    "name": "ipython",
    "version": 3
   },
   "file_extension": ".py",
   "mimetype": "text/x-python",
   "name": "python",
   "nbconvert_exporter": "python",
   "pygments_lexer": "ipython3",
   "version": "3.12.4"
  }
 },
 "nbformat": 4,
 "nbformat_minor": 5
}
